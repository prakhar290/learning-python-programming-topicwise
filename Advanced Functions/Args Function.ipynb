{
 "cells": [
  {
   "cell_type": "code",
   "execution_count": 1,
   "metadata": {},
   "outputs": [],
   "source": [
    "# args are used when we have many inputs, or when we don't know that how many values can be given to us by user to do some operation\n",
    "# the asterisk (*) is used to in creating a arg function. (*) is called unpacking operator."
   ]
  },
  {
   "cell_type": "code",
   "execution_count": 2,
   "metadata": {},
   "outputs": [
    {
     "name": "stdout",
     "output_type": "stream",
     "text": [
      "the multiplication of numbers 1,2,3,4,5,6 is: \n",
      "720\n"
     ]
    }
   ],
   "source": [
    "print(\"the multiplication of numbers 1,2,3,4,5,6 is: \")\n",
    "\n",
    "def multiply(*args):\n",
    "    result = 1\n",
    "    for i in args:\n",
    "        result *= i\n",
    "    return result\n",
    "\n",
    "print(multiply(1,2,3,4,5,6))"
   ]
  },
  {
   "cell_type": "code",
   "execution_count": 10,
   "metadata": {},
   "outputs": [
    {
     "name": "stdout",
     "output_type": "stream",
     "text": [
      "using addition function to add 1 5 2 3 4 6 7 8 9:  45\n"
     ]
    }
   ],
   "source": [
    "# we can also use any other word with the (*) in place of args, args is just a notation \n",
    "\n",
    "\n",
    "def addition(*x):\n",
    "    result = 0\n",
    "    for i in x:\n",
    "        result += i\n",
    "    return result\n",
    "\n",
    "print(\"using addition function to add 1 5 2 3 4 6 7 8 9: \",addition(1,5,2,3,4,6,7,8,9))\n"
   ]
  },
  {
   "cell_type": "code",
   "execution_count": null,
   "metadata": {},
   "outputs": [],
   "source": []
  },
  {
   "cell_type": "code",
   "execution_count": null,
   "metadata": {},
   "outputs": [],
   "source": []
  }
 ],
 "metadata": {
  "kernelspec": {
   "display_name": "Python 3",
   "language": "python",
   "name": "python3"
  },
  "language_info": {
   "codemirror_mode": {
    "name": "ipython",
    "version": 3
   },
   "file_extension": ".py",
   "mimetype": "text/x-python",
   "name": "python",
   "nbconvert_exporter": "python",
   "pygments_lexer": "ipython3",
   "version": "3.8.3"
  }
 },
 "nbformat": 4,
 "nbformat_minor": 4
}
