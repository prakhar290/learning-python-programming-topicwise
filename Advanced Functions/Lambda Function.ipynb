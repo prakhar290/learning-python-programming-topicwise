{
 "cells": [
  {
   "cell_type": "code",
   "execution_count": 1,
   "metadata": {},
   "outputs": [],
   "source": [
    "# to simplify the smalll fucntion code we can use lambda function\n",
    "\n",
    "# For example : simplifying division of two numbers function"
   ]
  },
  {
   "cell_type": "code",
   "execution_count": 2,
   "metadata": {},
   "outputs": [
    {
     "name": "stdout",
     "output_type": "stream",
     "text": [
      "enter value of x: 27\n",
      "enter value of y: 3\n",
      "the division of your numbers is:  9.0\n"
     ]
    }
   ],
   "source": [
    "# normal division function\n",
    "\n",
    "x = int(input(\"enter value of x: \"))\n",
    "y = int(input(\"enter value of y: \"))\n",
    "\n",
    "def divide(x,y):\n",
    "    result = x/y\n",
    "    return result\n",
    "\n",
    "print(\"the division of your numbers is: \",divide(x,y))\n"
   ]
  },
  {
   "cell_type": "code",
   "execution_count": 3,
   "metadata": {},
   "outputs": [
    {
     "name": "stdout",
     "output_type": "stream",
     "text": [
      "enter value of x: 27\n",
      "enter value of y: 3\n",
      "the division of your numbers is:  9.0\n"
     ]
    }
   ],
   "source": [
    "#simplified form of above function using lambda\n",
    "\n",
    "x = int(input(\"enter value of x: \"))\n",
    "y = int(input(\"enter value of y: \"))\n",
    "\n",
    "divide = lambda x,y: x/y\n",
    "\n",
    "print(\"the division of your numbers is: \",divide(x,y))"
   ]
  },
  {
   "cell_type": "code",
   "execution_count": null,
   "metadata": {},
   "outputs": [],
   "source": []
  }
 ],
 "metadata": {
  "kernelspec": {
   "display_name": "Python 3",
   "language": "python",
   "name": "python3"
  },
  "language_info": {
   "codemirror_mode": {
    "name": "ipython",
    "version": 3
   },
   "file_extension": ".py",
   "mimetype": "text/x-python",
   "name": "python",
   "nbconvert_exporter": "python",
   "pygments_lexer": "ipython3",
   "version": "3.8.3"
  }
 },
 "nbformat": 4,
 "nbformat_minor": 4
}
