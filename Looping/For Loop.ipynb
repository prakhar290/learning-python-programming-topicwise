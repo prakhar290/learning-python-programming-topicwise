{
 "cells": [
  {
   "cell_type": "code",
   "execution_count": 1,
   "metadata": {},
   "outputs": [
    {
     "name": "stdout",
     "output_type": "stream",
     "text": [
      "0\n",
      "1\n",
      "2\n",
      "3\n",
      "4\n",
      "5\n",
      "6\n",
      "7\n",
      "8\n",
      "9\n",
      "loop ended.\n"
     ]
    }
   ],
   "source": [
    "# For loop is used when we know the end limit at which we want to stop it.\n",
    "\n",
    "#printing first 10 whole numbers using for elements\n",
    "\n",
    "for i in range(10):\n",
    "    print(i)\n",
    "print(\"loop ended.\")"
   ]
  },
  {
   "cell_type": "code",
   "execution_count": 2,
   "metadata": {},
   "outputs": [
    {
     "name": "stdout",
     "output_type": "stream",
     "text": [
      "0\n",
      "2\n",
      "4\n",
      "6\n",
      "8\n",
      "even numbers printed\n"
     ]
    }
   ],
   "source": [
    "#if we want to print only even numbers till 10 then we can simply do it as below:\n",
    "\n",
    "for i in range(0,10,2):\n",
    "    print(i)\n",
    "print(\"even numbers printed\")"
   ]
  },
  {
   "cell_type": "code",
   "execution_count": 3,
   "metadata": {},
   "outputs": [
    {
     "name": "stdout",
     "output_type": "stream",
     "text": [
      "1\n",
      "2\n",
      "3\n",
      "4\n",
      "5\n",
      "6\n",
      "7\n",
      "8\n",
      "9\n",
      "elements of list1 are printed.\n"
     ]
    }
   ],
   "source": [
    "#we can also use loops with advanced datatypes \n",
    "\n",
    "list1 = [1,2,3,4,5,6,7,8,9]\n",
    "for i in list1:\n",
    "    print(i)\n",
    "print(\"elements of list1 are printed.\")"
   ]
  },
  {
   "cell_type": "code",
   "execution_count": null,
   "metadata": {},
   "outputs": [],
   "source": []
  }
 ],
 "metadata": {
  "kernelspec": {
   "display_name": "Python 3",
   "language": "python",
   "name": "python3"
  },
  "language_info": {
   "codemirror_mode": {
    "name": "ipython",
    "version": 3
   },
   "file_extension": ".py",
   "mimetype": "text/x-python",
   "name": "python",
   "nbconvert_exporter": "python",
   "pygments_lexer": "ipython3",
   "version": "3.8.3"
  }
 },
 "nbformat": 4,
 "nbformat_minor": 4
}
