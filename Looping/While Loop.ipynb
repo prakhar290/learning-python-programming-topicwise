{
 "cells": [
  {
   "cell_type": "code",
   "execution_count": 4,
   "metadata": {},
   "outputs": [
    {
     "name": "stdout",
     "output_type": "stream",
     "text": [
      "the last product of list before the condition being true is:  480\n"
     ]
    }
   ],
   "source": [
    "#while loop is used when we dont have the end limit of the iterations\n",
    "\n",
    "#suppose we want to multiply the elements of the list till the product is less than 50, so to do that we use while loop\n",
    "\n",
    "list1 = [2,4,3,2,10,5]\n",
    "product = 1\n",
    "element = 0\n",
    "while product<50:\n",
    "    product *= list1[element]\n",
    "    element += 1\n",
    "print(\"the last product of list before the condition being true is: \", product)"
   ]
  },
  {
   "cell_type": "code",
   "execution_count": 5,
   "metadata": {},
   "outputs": [
    {
     "name": "stdout",
     "output_type": "stream",
     "text": [
      "700\n"
     ]
    }
   ],
   "source": [
    "list2 = [1,5,2,7,10]\n",
    "multiply = 1\n",
    "index = 0\n",
    "while multiply<100:\n",
    "    multiply *= list2[index]\n",
    "    index += 1\n",
    "print(multiply)"
   ]
  },
  {
   "cell_type": "code",
   "execution_count": 7,
   "metadata": {},
   "outputs": [
    {
     "name": "stdout",
     "output_type": "stream",
     "text": [
      "addition is:  15\n"
     ]
    }
   ],
   "source": [
    "addition = 0\n",
    "index = 0\n",
    "while addition < 15:\n",
    "    addition += list2[index]\n",
    "    index += 1\n",
    "print(\"addition is: \",addition)"
   ]
  },
  {
   "cell_type": "code",
   "execution_count": 8,
   "metadata": {},
   "outputs": [
    {
     "name": "stdout",
     "output_type": "stream",
     "text": [
      "0\n",
      "1\n",
      "2\n",
      "3\n",
      "4\n",
      "5\n",
      "6\n",
      "7\n",
      "8\n",
      "9\n",
      "numbers printed\n"
     ]
    }
   ],
   "source": [
    "#printing numbers till 10 using while loop\n",
    "\n",
    "i = 0\n",
    "while i<10:\n",
    "    print(i)\n",
    "    i += 1\n",
    "print(\"numbers printed\")"
   ]
  },
  {
   "cell_type": "code",
   "execution_count": null,
   "metadata": {},
   "outputs": [],
   "source": []
  }
 ],
 "metadata": {
  "kernelspec": {
   "display_name": "Python 3",
   "language": "python",
   "name": "python3"
  },
  "language_info": {
   "codemirror_mode": {
    "name": "ipython",
    "version": 3
   },
   "file_extension": ".py",
   "mimetype": "text/x-python",
   "name": "python",
   "nbconvert_exporter": "python",
   "pygments_lexer": "ipython3",
   "version": "3.8.3"
  }
 },
 "nbformat": 4,
 "nbformat_minor": 4
}
