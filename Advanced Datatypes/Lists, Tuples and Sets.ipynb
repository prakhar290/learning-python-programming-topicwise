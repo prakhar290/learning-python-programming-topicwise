{
 "cells": [
  {
   "cell_type": "code",
   "execution_count": 1,
   "metadata": {},
   "outputs": [
    {
     "name": "stdout",
     "output_type": "stream",
     "text": [
      "[1, 'lists', 2.2]\n"
     ]
    }
   ],
   "source": [
    "#Lists is a special datatype which can store multiple values of multiple datatypes\n",
    "mylist = [1,'lists',2.2]\n",
    "print(mylist)"
   ]
  },
  {
   "cell_type": "code",
   "execution_count": 2,
   "metadata": {},
   "outputs": [
    {
     "name": "stdout",
     "output_type": "stream",
     "text": [
      "3\n"
     ]
    }
   ],
   "source": [
    "#indexing in Lists is same as in strings \n",
    "list2 = [1,2,3,4]\n",
    "print(list2[2])"
   ]
  },
  {
   "cell_type": "code",
   "execution_count": 4,
   "metadata": {},
   "outputs": [
    {
     "name": "stdout",
     "output_type": "stream",
     "text": [
      "[2, 3]\n"
     ]
    }
   ],
   "source": [
    "#List slicing is also same as of strings\n",
    "print(list2[1:3])\n",
    "#this will print from the element at index 1 to index 3 but excluding the element at index 3 "
   ]
  },
  {
   "cell_type": "code",
   "execution_count": 5,
   "metadata": {},
   "outputs": [
    {
     "name": "stdout",
     "output_type": "stream",
     "text": [
      "(1, 'Tuple', 2.2)\n"
     ]
    }
   ],
   "source": [
    "#Tuples is a special case of Lists where elements cannot be changed i.e tuples are immutable\n",
    "tuple1 = (1,'Tuple',2.2)\n",
    "print(tuple1)"
   ]
  },
  {
   "cell_type": "code",
   "execution_count": 7,
   "metadata": {},
   "outputs": [
    {
     "name": "stdout",
     "output_type": "stream",
     "text": [
      "2.2\n",
      "(1, 'Tuple')\n"
     ]
    }
   ],
   "source": [
    "#indexing and slicing is same as of lists\n",
    "print(tuple1[2])\n",
    "print(tuple1[0:2])"
   ]
  },
  {
   "cell_type": "code",
   "execution_count": 8,
   "metadata": {},
   "outputs": [
    {
     "name": "stdout",
     "output_type": "stream",
     "text": [
      "{1, 2, 3}\n"
     ]
    }
   ],
   "source": [
    "#Sets are also special case of lists which contains only unique elements and it is mutable as we can add and remove elements from it\n",
    "sets1 = {1,2,3,2,1}\n",
    "print(sets1)\n",
    "#this will print only unique elements "
   ]
  },
  {
   "cell_type": "code",
   "execution_count": 9,
   "metadata": {},
   "outputs": [
    {
     "ename": "TypeError",
     "evalue": "'set' object is not subscriptable",
     "output_type": "error",
     "traceback": [
      "\u001b[1;31m---------------------------------------------------------------------------\u001b[0m",
      "\u001b[1;31mTypeError\u001b[0m                                 Traceback (most recent call last)",
      "\u001b[1;32m<ipython-input-9-978baad3c9e5>\u001b[0m in \u001b[0;36m<module>\u001b[1;34m\u001b[0m\n\u001b[0;32m      1\u001b[0m \u001b[1;31m#indexing can not be done in sets\u001b[0m\u001b[1;33m\u001b[0m\u001b[1;33m\u001b[0m\u001b[1;33m\u001b[0m\u001b[0m\n\u001b[1;32m----> 2\u001b[1;33m \u001b[0mprint\u001b[0m\u001b[1;33m(\u001b[0m\u001b[0msets1\u001b[0m\u001b[1;33m[\u001b[0m\u001b[1;36m2\u001b[0m\u001b[1;33m]\u001b[0m\u001b[1;33m)\u001b[0m\u001b[1;33m\u001b[0m\u001b[1;33m\u001b[0m\u001b[0m\n\u001b[0m",
      "\u001b[1;31mTypeError\u001b[0m: 'set' object is not subscriptable"
     ]
    }
   ],
   "source": [
    "#indexing and slicng can not be done in sets\n",
    "print(sets1[2])"
   ]
  },
  {
   "cell_type": "code",
   "execution_count": 10,
   "metadata": {},
   "outputs": [],
   "source": [
    "#Special functions to perform some operation on Lists, Tuples and Sets\n"
   ]
  },
  {
   "cell_type": "code",
   "execution_count": 12,
   "metadata": {},
   "outputs": [
    {
     "name": "stdout",
     "output_type": "stream",
     "text": [
      "maximum element is: 6\n",
      "minimum element is:  1\n"
     ]
    }
   ],
   "source": [
    "#to find the max and min element in the list \n",
    "list3 = [1,2,3,4,5,6]\n",
    "print(\"maximum element is:\",max(list3))\n",
    "print(\"minimum element is:\",min(list3))"
   ]
  },
  {
   "cell_type": "code",
   "execution_count": 13,
   "metadata": {},
   "outputs": [
    {
     "name": "stdout",
     "output_type": "stream",
     "text": [
      "sorted list is: [1, 3, 3, 5, 6, 7]\n"
     ]
    }
   ],
   "source": [
    "#to sort a list\n",
    "list4 = [5,3,6,1,3,7]\n",
    "print(\"sorted list is:\",sorted(list4))"
   ]
  },
  {
   "cell_type": "code",
   "execution_count": 14,
   "metadata": {},
   "outputs": [
    {
     "name": "stdout",
     "output_type": "stream",
     "text": [
      "set before adding element: {1, 2, 3, 4}\n",
      "set after adding element: {1, 2, 3, 4, 5}\n"
     ]
    }
   ],
   "source": [
    "#to add an element in Sets\n",
    "sets2 = {1,2,3,4}\n",
    "print(\"set before adding element:\",sets2)\n",
    "sets2.add(5)\n",
    "print(\"set after adding element:\",sets2)"
   ]
  },
  {
   "cell_type": "code",
   "execution_count": 16,
   "metadata": {},
   "outputs": [
    {
     "name": "stdout",
     "output_type": "stream",
     "text": [
      "set before removing element: {1, 2, 3, 4, 5}\n",
      "set after removing element: {2, 3, 4, 5}\n"
     ]
    }
   ],
   "source": [
    "#to remove an element from sets\n",
    "print(\"set before removing element:\",sets2)\n",
    "sets2.pop()\n",
    "print(\"set after removing element:\",sets2)\n",
    "\n",
    "#note that element is removed from the starting in the sets"
   ]
  },
  {
   "cell_type": "code",
   "execution_count": 17,
   "metadata": {},
   "outputs": [
    {
     "name": "stdout",
     "output_type": "stream",
     "text": [
      "length of list4 is: 6\n",
      "length of sets2 is: 4\n"
     ]
    }
   ],
   "source": [
    "#to count elements\n",
    "print(\"length of list4 is:\",len(list4))\n",
    "print(\"length of sets2 is:\",len(sets2))"
   ]
  },
  {
   "cell_type": "code",
   "execution_count": null,
   "metadata": {},
   "outputs": [],
   "source": []
  }
 ],
 "metadata": {
  "kernelspec": {
   "display_name": "Python 3",
   "language": "python",
   "name": "python3"
  },
  "language_info": {
   "codemirror_mode": {
    "name": "ipython",
    "version": 3
   },
   "file_extension": ".py",
   "mimetype": "text/x-python",
   "name": "python",
   "nbconvert_exporter": "python",
   "pygments_lexer": "ipython3",
   "version": "3.8.3"
  }
 },
 "nbformat": 4,
 "nbformat_minor": 4
}
