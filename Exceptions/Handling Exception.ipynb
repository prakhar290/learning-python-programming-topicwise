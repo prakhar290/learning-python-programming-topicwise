{
 "cells": [
  {
   "cell_type": "code",
   "execution_count": 1,
   "metadata": {},
   "outputs": [],
   "source": [
    "# To handle exceptions we ahve try and except function to handle exception, using these our code can still execute if it finds any\n",
    "# exception. Inside the body of try we write the condition which can create an error, and inside the except body we write that \n",
    "# code which should be executed if an exception occurs."
   ]
  },
  {
   "cell_type": "code",
   "execution_count": 2,
   "metadata": {},
   "outputs": [
    {
     "name": "stdout",
     "output_type": "stream",
     "text": [
      "enter a number: 5\n",
      "enter another number: 2\n",
      "2.5\n"
     ]
    }
   ],
   "source": [
    "# handling exceptions in a division function\n",
    "#case-1: when there is no exception\n",
    "\n",
    "x = int(input(\"enter a number: \"))\n",
    "y = int(input(\"enter another number: \"))\n",
    "\n",
    "def divide(x,y):\n",
    "    try:\n",
    "        result = x/y  #this is the statement which we want to check whether it give exception or not\n",
    "    except:\n",
    "        result = \"the another number you entered is zero and division by zero is not possible.\" \n",
    "    return result\n",
    "print(divide(x,y))"
   ]
  },
  {
   "cell_type": "code",
   "execution_count": 3,
   "metadata": {},
   "outputs": [
    {
     "name": "stdout",
     "output_type": "stream",
     "text": [
      "enter a number: 5\n",
      "enter another number: 0\n",
      "the another number you entered is zero and division by zero is not possible.\n"
     ]
    }
   ],
   "source": [
    "#case-1: when there is an exception\n",
    "\n",
    "x = int(input(\"enter a number: \"))\n",
    "y = int(input(\"enter another number: \"))\n",
    "\n",
    "def divide(x,y):\n",
    "    try:\n",
    "        result = x/y  #this is the statement which we want to check whether it give exception or not\n",
    "    except:\n",
    "        result = \"the another number you entered is zero and division by zero is not possible.\" \n",
    "    return result\n",
    "print(divide(x,y))"
   ]
  },
  {
   "cell_type": "code",
   "execution_count": null,
   "metadata": {},
   "outputs": [],
   "source": []
  }
 ],
 "metadata": {
  "kernelspec": {
   "display_name": "Python 3",
   "language": "python",
   "name": "python3"
  },
  "language_info": {
   "codemirror_mode": {
    "name": "ipython",
    "version": 3
   },
   "file_extension": ".py",
   "mimetype": "text/x-python",
   "name": "python",
   "nbconvert_exporter": "python",
   "pygments_lexer": "ipython3",
   "version": "3.8.3"
  }
 },
 "nbformat": 4,
 "nbformat_minor": 4
}
