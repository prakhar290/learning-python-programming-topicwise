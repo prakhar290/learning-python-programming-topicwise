{
 "cells": [
  {
   "cell_type": "code",
   "execution_count": 1,
   "metadata": {},
   "outputs": [],
   "source": [
    "# finally clause runs whether the try statement produces an exception or not. If finally clause is present then it will get\n",
    "# executed as the last task before the try statement completes."
   ]
  },
  {
   "cell_type": "code",
   "execution_count": 4,
   "metadata": {},
   "outputs": [
    {
     "name": "stdout",
     "output_type": "stream",
     "text": [
      "enter a number: 7\n",
      "enter another number: 28\n",
      "executing finally statement\n",
      "2.0\n",
      "\n",
      "\n",
      "executing finally statement\n",
      "can't divide by zero\n",
      "\n",
      "\n",
      "executing finally statement\n",
      "first number must be greater than the second number\n",
      "\n",
      "\n",
      "all above exceptions are covered, and everytime the finally clause statement get executed before the try and except.\n"
     ]
    }
   ],
   "source": [
    "# Divide function withe the finally clause\n",
    "\n",
    "x = int(input(\"enter a number: \"))\n",
    "y = int(input(\"enter another number: \"))\n",
    "\n",
    "def divide(x,y):\n",
    "    try:\n",
    "        result = x/y\n",
    "        assert x>=y\n",
    "    except ZeroDivisionError: \n",
    "        result = \"can't divide by zero\"\n",
    "    except AssertionError:\n",
    "        result = \"first number must be greater than the second number\"\n",
    "    finally:\n",
    "        print(\"executing finally statement\") # this will be executed everytime\n",
    "    return result\n",
    "print(divide(4,2))\n",
    "print(\"\\n\")\n",
    "print(divide(13,0))\n",
    "print(\"\\n\")\n",
    "print(divide(x,y))\n",
    "print(\"\\n\")\n",
    "print(\"all above exceptions are covered, and everytime the finally clause statement get executed before the try and except.\")"
   ]
  },
  {
   "cell_type": "code",
   "execution_count": null,
   "metadata": {},
   "outputs": [],
   "source": []
  }
 ],
 "metadata": {
  "kernelspec": {
   "display_name": "Python 3",
   "language": "python",
   "name": "python3"
  },
  "language_info": {
   "codemirror_mode": {
    "name": "ipython",
    "version": 3
   },
   "file_extension": ".py",
   "mimetype": "text/x-python",
   "name": "python",
   "nbconvert_exporter": "python",
   "pygments_lexer": "ipython3",
   "version": "3.8.3"
  }
 },
 "nbformat": 4,
 "nbformat_minor": 4
}
