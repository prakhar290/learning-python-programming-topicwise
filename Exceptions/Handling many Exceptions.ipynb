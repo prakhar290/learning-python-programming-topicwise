{
 "cells": [
  {
   "cell_type": "code",
   "execution_count": 1,
   "metadata": {},
   "outputs": [],
   "source": [
    "# There can be any of the exception in a code or we can create our own exceptions, so to handle all types of exception we use\n",
    "# multiple except function which works as an if else statement, if any of the except is executed then the other except statements\n",
    "# are ignored"
   ]
  },
  {
   "cell_type": "code",
   "execution_count": 2,
   "metadata": {},
   "outputs": [
    {
     "name": "stdout",
     "output_type": "stream",
     "text": [
      "enter a number: 8\n",
      "enter another number: 0\n",
      "the another number you entered is zero and division by zero is not possible.\n"
     ]
    }
   ],
   "source": [
    "# Handling exceptions of division\n",
    "#case-1: when number is divided by zero\n",
    "\n",
    "x = int(input(\"enter a number: \"))\n",
    "y = int(input(\"enter another number: \"))\n",
    "\n",
    "def divide(x,y):\n",
    "    try:\n",
    "        result = x/y  #this is the statement which we want to check whether it give exception or not\n",
    "        assert x>=y\n",
    "    except ZeroDivisionError:\n",
    "        result = \"the another number you entered is zero and division by zero is not possible.\" \n",
    "    except AssertionError:\n",
    "        result = \"first number should be greater than the second number\"\n",
    "    return result\n",
    "print(divide(x,y))\n",
    "\n"
   ]
  },
  {
   "cell_type": "code",
   "execution_count": 3,
   "metadata": {},
   "outputs": [
    {
     "name": "stdout",
     "output_type": "stream",
     "text": [
      "enter a number: 2\n",
      "enter another number: 9\n",
      "first number should be greater than the second number\n"
     ]
    }
   ],
   "source": [
    "#case-2: when there is a user defined exception, as here we created as first number should be greater than second number\n",
    "\n",
    "x = int(input(\"enter a number: \"))\n",
    "y = int(input(\"enter another number: \"))\n",
    "\n",
    "def divide(x,y):\n",
    "    try:\n",
    "        result = x/y  #this is the statement which we want to check whether it give exception or not\n",
    "        assert x>=y\n",
    "    except ZeroDivisionError:\n",
    "        result = \"the another number you entered is zero and division by zero is not possible.\" \n",
    "    except AssertionError:\n",
    "        result = \"first number should be greater than the second number\"\n",
    "    return result\n",
    "print(divide(x,y))\n"
   ]
  },
  {
   "cell_type": "code",
   "execution_count": null,
   "metadata": {},
   "outputs": [],
   "source": []
  }
 ],
 "metadata": {
  "kernelspec": {
   "display_name": "Python 3",
   "language": "python",
   "name": "python3"
  },
  "language_info": {
   "codemirror_mode": {
    "name": "ipython",
    "version": 3
   },
   "file_extension": ".py",
   "mimetype": "text/x-python",
   "name": "python",
   "nbconvert_exporter": "python",
   "pygments_lexer": "ipython3",
   "version": "3.8.3"
  }
 },
 "nbformat": 4,
 "nbformat_minor": 4
}
