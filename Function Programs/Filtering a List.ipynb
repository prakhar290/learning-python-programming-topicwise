{
 "cells": [
  {
   "cell_type": "code",
   "execution_count": 1,
   "metadata": {},
   "outputs": [],
   "source": [
    "# Implement a function called filter_even_odd that should take a list of integer called numbers and another input choice to specify\n",
    "# if we want even numbers of odd numbers. If choice is true we choose odd numbers and if choice is false we choose even numbers\n",
    "# Store the output in a variable called filtered list."
   ]
  },
  {
   "cell_type": "code",
   "execution_count": 2,
   "metadata": {},
   "outputs": [
    {
     "name": "stdout",
     "output_type": "stream",
     "text": [
      "The filtered list is:  [1, 3, 5, 7, 9]\n"
     ]
    }
   ],
   "source": [
    "num_list = [1,2,3,4,5,6,7,8,9,10]\n",
    "filtered_list = []\n",
    "\n",
    "#let our choice be true, you can also try for choice to be false\n",
    "\n",
    "choice = True\n",
    "\n",
    "def filter_even_odd(num_list,choice):\n",
    "    if choice==True:\n",
    "        for i in num_list:\n",
    "            if i%2!=0:\n",
    "                filtered_list.append(i)\n",
    "    else:\n",
    "        for i in num_list:\n",
    "            if i%2==0:\n",
    "                filtered_list.append(i)\n",
    "    return filtered_list\n",
    "print(\"The filtered list is: \",filter_even_odd(num_list,choice))"
   ]
  },
  {
   "cell_type": "code",
   "execution_count": null,
   "metadata": {},
   "outputs": [],
   "source": []
  }
 ],
 "metadata": {
  "kernelspec": {
   "display_name": "Python 3",
   "language": "python",
   "name": "python3"
  },
  "language_info": {
   "codemirror_mode": {
    "name": "ipython",
    "version": 3
   },
   "file_extension": ".py",
   "mimetype": "text/x-python",
   "name": "python",
   "nbconvert_exporter": "python",
   "pygments_lexer": "ipython3",
   "version": "3.8.3"
  }
 },
 "nbformat": 4,
 "nbformat_minor": 4
}
