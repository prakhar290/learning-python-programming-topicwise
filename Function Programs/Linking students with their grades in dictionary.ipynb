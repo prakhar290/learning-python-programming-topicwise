{
 "cells": [
  {
   "cell_type": "code",
   "execution_count": 1,
   "metadata": {},
   "outputs": [],
   "source": [
    "#Implemenet a function called link_name_grade that takes two list called student_name,student_gradecwhere frist list have names \n",
    "#of student and second list have grades. This fucntion should link the students with their grades in a dictionary called \n",
    "#name_grade which is the output/result of the question."
   ]
  },
  {
   "cell_type": "code",
   "execution_count": 5,
   "metadata": {},
   "outputs": [
    {
     "name": "stdout",
     "output_type": "stream",
     "text": [
      "the dictionary conatining linked students with their grades is: \n",
      "{'Aman': 75, 'Yash': 78, 'Rahul': 80}\n"
     ]
    }
   ],
   "source": [
    "student_name = [\"Aman\", \"Yash\", \"Rahul\"]\n",
    "student_grade = [75,78,80]\n",
    "names_grade = {}\n",
    "def link_name_grade(student_name,student_grade):\n",
    "    for i,j in zip(student_name,student_grade):\n",
    "        names_grade[i] = j;\n",
    "    return names_grade\n",
    "\n",
    "print(\"the dictionary conatining linked students with their grades is: \")\n",
    "\n",
    "print(link_name_grade(student_name,student_grade))\n",
    "\n",
    "    "
   ]
  },
  {
   "cell_type": "code",
   "execution_count": null,
   "metadata": {},
   "outputs": [],
   "source": []
  }
 ],
 "metadata": {
  "kernelspec": {
   "display_name": "Python 3",
   "language": "python",
   "name": "python3"
  },
  "language_info": {
   "codemirror_mode": {
    "name": "ipython",
    "version": 3
   },
   "file_extension": ".py",
   "mimetype": "text/x-python",
   "name": "python",
   "nbconvert_exporter": "python",
   "pygments_lexer": "ipython3",
   "version": "3.8.3"
  }
 },
 "nbformat": 4,
 "nbformat_minor": 4
}
