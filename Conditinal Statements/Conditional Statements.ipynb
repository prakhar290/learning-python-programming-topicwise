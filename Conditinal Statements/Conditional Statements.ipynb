{
 "cells": [
  {
   "cell_type": "code",
   "execution_count": 1,
   "metadata": {},
   "outputs": [
    {
     "name": "stdout",
     "output_type": "stream",
     "text": [
      "the two numbers are:  10   20\n",
      "greater number is:  20\n"
     ]
    }
   ],
   "source": [
    "#find the greater of the two elements\n",
    "x = 10\n",
    "y = 20\n",
    "print(\"the two numbers are: \",x,\" \",y)\n",
    "if x>y:\n",
    "    print(\"greater number is: \",x)\n",
    "else:\n",
    "    print(\"greater number is: \",y)"
   ]
  },
  {
   "cell_type": "code",
   "execution_count": 3,
   "metadata": {},
   "outputs": [
    {
     "name": "stdout",
     "output_type": "stream",
     "text": [
      "three numbers are:  10   20   30\n",
      "20\n"
     ]
    }
   ],
   "source": [
    "#using elif to print any of the three numbers\n",
    "x = 10\n",
    "y = 20\n",
    "z = 30\n",
    "print(\"three numbers are: \",x,\" \",y,\" \",z)\n",
    "if x>y :\n",
    "    print(x)\n",
    "elif y<z:\n",
    "    print(y)\n",
    "else:\n",
    "    print(z)"
   ]
  },
  {
   "cell_type": "code",
   "execution_count": 4,
   "metadata": {},
   "outputs": [
    {
     "name": "stdout",
     "output_type": "stream",
     "text": [
      "2 is not present\n",
      "5 is present\n"
     ]
    }
   ],
   "source": [
    "#using conditional with advanced datatypes like lists\n",
    "## finding whether an element is present in the list or not using conditionals\n",
    "\n",
    "check = [1,3,4,5,6]\n",
    "if 2 in check:\n",
    "    print(\"2 is present\")\n",
    "else:\n",
    "    print(\"2 is not present\")\n",
    "if 5 in check:\n",
    "    print(\"5 is present\")\n",
    "else:\n",
    "    print(\"5 is not present\")\n"
   ]
  },
  {
   "cell_type": "code",
   "execution_count": 5,
   "metadata": {},
   "outputs": [
    {
     "name": "stdout",
     "output_type": "stream",
     "text": [
      "three numbers are:  10   20   30\n",
      "the greatest among these three numbers is: \n",
      "30\n"
     ]
    }
   ],
   "source": [
    "#checking more than one conditions at same time \n",
    "## find the greatest element among the three elements\n",
    "\n",
    "x = 10\n",
    "y = 20\n",
    "z = 30\n",
    "print(\"three numbers are: \",x,\" \",y,\" \",z)\n",
    "print(\"the greatest among these three numbers is: \")\n",
    "if x>y and x>z:\n",
    "    print(x)\n",
    "elif y>x and y>z:\n",
    "    print(y)\n",
    "elif z>x and z>y:\n",
    "    print(z)"
   ]
  },
  {
   "cell_type": "code",
   "execution_count": null,
   "metadata": {},
   "outputs": [],
   "source": []
  }
 ],
 "metadata": {
  "kernelspec": {
   "display_name": "Python 3",
   "language": "python",
   "name": "python3"
  },
  "language_info": {
   "codemirror_mode": {
    "name": "ipython",
    "version": 3
   },
   "file_extension": ".py",
   "mimetype": "text/x-python",
   "name": "python",
   "nbconvert_exporter": "python",
   "pygments_lexer": "ipython3",
   "version": "3.8.3"
  }
 },
 "nbformat": 4,
 "nbformat_minor": 4
}
