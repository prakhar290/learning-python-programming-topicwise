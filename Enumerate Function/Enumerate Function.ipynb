{
 "cells": [
  {
   "cell_type": "code",
   "execution_count": 2,
   "metadata": {},
   "outputs": [
    {
     "name": "stdout",
     "output_type": "stream",
     "text": [
      "0 10\n",
      "1 20\n",
      "2 30\n",
      "3 40\n",
      "4 50\n",
      "5 60\n",
      "6 70\n",
      "the right side numbers are elements of list and left side numbers are the count.\n"
     ]
    }
   ],
   "source": [
    "#enumerate function is similar to zip function but with a slight difference. In enumeration it is a zip with a counter, i.e \n",
    "#it is used when we want to iterate over one iterable and one counter at same time.\n",
    "\n",
    "my_list = [10,20,30,40,50,60,70]\n",
    "for element,index in enumerate(my_list):\n",
    "    print(element, index)\n",
    "print(\"the right side numbers are elements of list and left side numbers are the count.\")"
   ]
  },
  {
   "cell_type": "code",
   "execution_count": 3,
   "metadata": {},
   "outputs": [
    {
     "name": "stdout",
     "output_type": "stream",
     "text": [
      "[(0, 10), (1, 20), (2, 30), (3, 40), (4, 50), (5, 60), (6, 70)]\n"
     ]
    }
   ],
   "source": [
    "#if we want to print above thing in a list format\n",
    "\n",
    "print(list(enumerate(my_list)))"
   ]
  },
  {
   "cell_type": "code",
   "execution_count": null,
   "metadata": {},
   "outputs": [],
   "source": []
  }
 ],
 "metadata": {
  "kernelspec": {
   "display_name": "Python 3",
   "language": "python",
   "name": "python3"
  },
  "language_info": {
   "codemirror_mode": {
    "name": "ipython",
    "version": 3
   },
   "file_extension": ".py",
   "mimetype": "text/x-python",
   "name": "python",
   "nbconvert_exporter": "python",
   "pygments_lexer": "ipython3",
   "version": "3.8.3"
  }
 },
 "nbformat": 4,
 "nbformat_minor": 4
}
