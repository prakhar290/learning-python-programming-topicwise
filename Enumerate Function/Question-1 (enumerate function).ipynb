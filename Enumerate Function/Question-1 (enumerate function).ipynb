{
 "cells": [
  {
   "cell_type": "code",
   "execution_count": 2,
   "metadata": {},
   "outputs": [
    {
     "name": "stdout",
     "output_type": "stream",
     "text": [
      "the names are: \n",
      "Amit\n",
      "Bhavya\n",
      "the salaries are: \n",
      "1000\n",
      "2000\n",
      "list after linking the persons with their salaries is: \n",
      "Amit$1000\n",
      "Bhavya$2000\n"
     ]
    }
   ],
   "source": [
    "#we have two list as name = [\"A\",\"B\"] and salary = [1000,2000]. Now we want to link each person with his/her salary as follows:\n",
    "# \"person_name$salaray\"\n",
    "\n",
    "name = [\"Amit\",\"Bhavya\"]\n",
    "salary = [1000,2000]\n",
    "people_salary = []\n",
    "print(\"the names are: \")\n",
    "for i in name:\n",
    "    print(i)\n",
    "print(\"the salaries are: \")\n",
    "for i in salary:\n",
    "    print (i)\n",
    "for i,j in enumerate(name):\n",
    "    x = j+\"$\"+str(salary[i]) #creating a variable which then be appended to the list created as people_salary\n",
    "    people_salary.append(x)\n",
    "\n",
    "print(\"list after linking the persons with their salaries is: \")\n",
    "for i in people_salary:\n",
    "    print(i)"
   ]
  },
  {
   "cell_type": "code",
   "execution_count": null,
   "metadata": {},
   "outputs": [],
   "source": []
  }
 ],
 "metadata": {
  "kernelspec": {
   "display_name": "Python 3",
   "language": "python",
   "name": "python3"
  },
  "language_info": {
   "codemirror_mode": {
    "name": "ipython",
    "version": 3
   },
   "file_extension": ".py",
   "mimetype": "text/x-python",
   "name": "python",
   "nbconvert_exporter": "python",
   "pygments_lexer": "ipython3",
   "version": "3.8.3"
  }
 },
 "nbformat": 4,
 "nbformat_minor": 4
}
