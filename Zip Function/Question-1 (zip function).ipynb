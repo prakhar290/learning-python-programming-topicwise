{
 "cells": [
  {
   "cell_type": "code",
   "execution_count": 4,
   "metadata": {},
   "outputs": [
    {
     "name": "stdout",
     "output_type": "stream",
     "text": [
      "students with their grades are: \n",
      "{'Rahul': 80, 'Simran': 78, 'Karan': 85}\n"
     ]
    }
   ],
   "source": [
    "#you have to create two lists as student_name conatining name of students and Student_grade containg some grades. Now we want to\n",
    "#link each student with his/her grade in a dictionary called names_grade\n",
    "#for ex-  student_name is Rahul and his grade is 60 so it will be printed as Rahul:60\n",
    "\n",
    "student_names = [\"Rahul\",\"Simran\",\"Karan\"]\n",
    "student_grades = [80,78,85]\n",
    "print(\"students with their grades are: \")\n",
    "names_grade = {}\n",
    "for i1,i2 in zip(student_names,student_grades):\n",
    "    names_grade[i1] = i2\n",
    "print(names_grade)"
   ]
  },
  {
   "cell_type": "code",
   "execution_count": null,
   "metadata": {},
   "outputs": [],
   "source": []
  }
 ],
 "metadata": {
  "kernelspec": {
   "display_name": "Python 3",
   "language": "python",
   "name": "python3"
  },
  "language_info": {
   "codemirror_mode": {
    "name": "ipython",
    "version": 3
   },
   "file_extension": ".py",
   "mimetype": "text/x-python",
   "name": "python",
   "nbconvert_exporter": "python",
   "pygments_lexer": "ipython3",
   "version": "3.8.3"
  }
 },
 "nbformat": 4,
 "nbformat_minor": 4
}
