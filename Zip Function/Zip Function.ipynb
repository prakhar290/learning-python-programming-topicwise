{
 "cells": [
  {
   "cell_type": "code",
   "execution_count": 1,
   "metadata": {},
   "outputs": [
    {
     "name": "stdout",
     "output_type": "stream",
     "text": [
      "now we are iterating over bothe the list at the same time: \n",
      "1\n",
      "2\n",
      "3\n",
      "4\n",
      "5\n",
      "6\n",
      "7\n",
      "8\n",
      "9\n",
      "10\n",
      "all the elements of list1 and list2 are printed succesfully at the same time\n"
     ]
    }
   ],
   "source": [
    "#suppose we have a couple of iterables and we want to iterate over both odf them at the same time, so to do this we use zip function\n",
    "\n",
    "list1 = [1,3,5,7,9]\n",
    "list2 = [2,4,6,8,10]\n",
    "\n",
    "print(\"now we are iterating over bothe the list at the same time: \")\n",
    "for i1,i2 in zip(list1,list2):\n",
    "    print(i1)\n",
    "    print(i2)\n",
    "print(\"all the elements of list1 and list2 are printed succesfully at the same time\")"
   ]
  },
  {
   "cell_type": "code",
   "execution_count": 2,
   "metadata": {},
   "outputs": [
    {
     "name": "stdout",
     "output_type": "stream",
     "text": [
      "[(1, 2), (3, 4), (5, 6), (7, 8), (9, 10)]\n"
     ]
    }
   ],
   "source": [
    "# now if we want to first store these values into another iterable and then print it, so we do as follow: \n",
    "\n",
    "list3 = zip(list1,list2)\n",
    "print(list(list3))"
   ]
  },
  {
   "cell_type": "code",
   "execution_count": null,
   "metadata": {},
   "outputs": [],
   "source": []
  }
 ],
 "metadata": {
  "kernelspec": {
   "display_name": "Python 3",
   "language": "python",
   "name": "python3"
  },
  "language_info": {
   "codemirror_mode": {
    "name": "ipython",
    "version": 3
   },
   "file_extension": ".py",
   "mimetype": "text/x-python",
   "name": "python",
   "nbconvert_exporter": "python",
   "pygments_lexer": "ipython3",
   "version": "3.8.3"
  }
 },
 "nbformat": 4,
 "nbformat_minor": 4
}
