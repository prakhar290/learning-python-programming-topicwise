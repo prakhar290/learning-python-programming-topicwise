{
 "cells": [
  {
   "cell_type": "code",
   "execution_count": 2,
   "metadata": {},
   "outputs": [
    {
     "name": "stdout",
     "output_type": "stream",
     "text": [
      "1\n",
      "2\n",
      "3\n",
      "4\n",
      "5\n",
      "6\n",
      "no element is printing furthur.\n",
      "came out of the loop.\n"
     ]
    }
   ],
   "source": [
    "#break statement is uswd to completely came out of the loop i.e if we are traversing from 1-10 and we have a break statement\n",
    "#after 6 then the loop breaks after print 1-6. for ex -\n",
    "\n",
    "for i in range(1,10):\n",
    "    print(i)\n",
    "    if i==6:\n",
    "        print(\"no element is printing furthur.\")\n",
    "        break\n",
    "        print(\"this line will never be printed.\")\n",
    "print(\"came out of the loop.\")"
   ]
  },
  {
   "cell_type": "code",
   "execution_count": 5,
   "metadata": {},
   "outputs": [
    {
     "name": "stdout",
     "output_type": "stream",
     "text": [
      "1\n",
      "2\n",
      "3\n",
      "4\n",
      "5\n",
      "number 6 is skipped.\n",
      "7\n",
      "8\n",
      "9\n",
      "loop ended.\n"
     ]
    }
   ],
   "source": [
    "#conitnue is used to skip only a iteration i.e if we are traversing from 1-10 and we have a continuee statement at 6 then it will\n",
    "#not print 6 and proceed to next element. \n",
    "\n",
    "for i in range(1,10):\n",
    "    if i==6:\n",
    "        print(\"number 6 is skipped.\")\n",
    "        continue\n",
    "        print(\"this line will never be printed.\")\n",
    "    else:\n",
    "        print(i)\n",
    "print(\"loop ended.\")"
   ]
  },
  {
   "cell_type": "code",
   "execution_count": null,
   "metadata": {},
   "outputs": [],
   "source": []
  }
 ],
 "metadata": {
  "kernelspec": {
   "display_name": "Python 3",
   "language": "python",
   "name": "python3"
  },
  "language_info": {
   "codemirror_mode": {
    "name": "ipython",
    "version": 3
   },
   "file_extension": ".py",
   "mimetype": "text/x-python",
   "name": "python",
   "nbconvert_exporter": "python",
   "pygments_lexer": "ipython3",
   "version": "3.8.3"
  }
 },
 "nbformat": 4,
 "nbformat_minor": 4
}
