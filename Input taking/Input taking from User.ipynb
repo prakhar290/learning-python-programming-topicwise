{
 "cells": [
  {
   "cell_type": "code",
   "execution_count": 1,
   "metadata": {},
   "outputs": [],
   "source": [
    "# There is built in function in python as input(), by using this we can take the input from the user."
   ]
  },
  {
   "cell_type": "code",
   "execution_count": 3,
   "metadata": {},
   "outputs": [
    {
     "name": "stdout",
     "output_type": "stream",
     "text": [
      "python\n",
      "the user input is:  python\n"
     ]
    }
   ],
   "source": [
    "#taking a string input \n",
    "\n",
    "x = input() #when we execute it the system will wait for the suer to enter some value \n",
    "print(\"the user input is: \",x)"
   ]
  },
  {
   "cell_type": "code",
   "execution_count": 4,
   "metadata": {},
   "outputs": [
    {
     "name": "stdout",
     "output_type": "stream",
     "text": [
      "enter a string message: understood how to take input\n",
      "your message is:  understood how to take input\n"
     ]
    }
   ],
   "source": [
    "# We can also give the message to the user while taking the input from it \n",
    "\n",
    "y = input(\"enter a string message: \")\n",
    "print(\"your message is: \",y)"
   ]
  },
  {
   "cell_type": "code",
   "execution_count": 5,
   "metadata": {},
   "outputs": [],
   "source": [
    "# Now there is a by defualt datatype set to the input fucntion i.e it takes the input only in the string even if you enter a number\n",
    "# it will take it as string datatype, so to give/take different type of input from user we have to use some keywords like to get\n",
    "# an integer value we have to use int(), for float type we have to use float(). "
   ]
  },
  {
   "cell_type": "code",
   "execution_count": 6,
   "metadata": {},
   "outputs": [
    {
     "name": "stdout",
     "output_type": "stream",
     "text": [
      "enter a number: 5\n",
      "enter another number: 4\n"
     ]
    },
    {
     "ename": "TypeError",
     "evalue": "unsupported operand type(s) for +: 'int' and 'str'",
     "output_type": "error",
     "traceback": [
      "\u001b[1;31m---------------------------------------------------------------------------\u001b[0m",
      "\u001b[1;31mTypeError\u001b[0m                                 Traceback (most recent call last)",
      "\u001b[1;32m<ipython-input-6-1bc17fb58f5b>\u001b[0m in \u001b[0;36m<module>\u001b[1;34m\u001b[0m\n\u001b[0;32m      4\u001b[0m \u001b[1;31m#Now if we want to add these numbers then it will give you the error.\u001b[0m\u001b[1;33m\u001b[0m\u001b[1;33m\u001b[0m\u001b[1;33m\u001b[0m\u001b[0m\n\u001b[0;32m      5\u001b[0m \u001b[1;33m\u001b[0m\u001b[0m\n\u001b[1;32m----> 6\u001b[1;33m \u001b[0mz\u001b[0m \u001b[1;33m=\u001b[0m \u001b[0mx\u001b[0m\u001b[1;33m+\u001b[0m\u001b[0my\u001b[0m\u001b[1;33m\u001b[0m\u001b[1;33m\u001b[0m\u001b[0m\n\u001b[0m\u001b[0;32m      7\u001b[0m \u001b[0mprint\u001b[0m\u001b[1;33m(\u001b[0m\u001b[1;34m\"the sum of two numbers given by you is: \"\u001b[0m\u001b[1;33m,\u001b[0m\u001b[0mz\u001b[0m\u001b[1;33m)\u001b[0m\u001b[1;33m\u001b[0m\u001b[1;33m\u001b[0m\u001b[0m\n",
      "\u001b[1;31mTypeError\u001b[0m: unsupported operand type(s) for +: 'int' and 'str'"
     ]
    }
   ],
   "source": [
    "x = int(input(\"enter a number: \")) #this will take the input as int data type\n",
    "y = input(\"enter another number: \") #this is by default taking the nput as string \n",
    "\n",
    "#Now if we want to add these numbers then it will give you the error.\n",
    "\n",
    "z = x+y\n",
    "print(\"the sum of two numbers given by you is: \",z)"
   ]
  },
  {
   "cell_type": "code",
   "execution_count": null,
   "metadata": {},
   "outputs": [],
   "source": [
    "#now to solve this error you have to take both the input as int datatype"
   ]
  },
  {
   "cell_type": "code",
   "execution_count": 7,
   "metadata": {},
   "outputs": [
    {
     "name": "stdout",
     "output_type": "stream",
     "text": [
      "enter any number: 5\n",
      "enter another number: 4\n",
      "the sum of your two numbers is:  9\n"
     ]
    }
   ],
   "source": [
    "a = int(input(\"enter any number: \"))\n",
    "b = int(input(\"enter another number: \"))\n",
    "c = a+b\n",
    "print(\"the sum of your two numbers is: \",c)"
   ]
  },
  {
   "cell_type": "code",
   "execution_count": 8,
   "metadata": {},
   "outputs": [
    {
     "name": "stdout",
     "output_type": "stream",
     "text": [
      "the type of x is:  <class 'int'>\n",
      "the type of y is:  <class 'str'>\n",
      "the type of a is:  <class 'int'>\n",
      "the type of b is:  <class 'int'>\n",
      "the type of c is:  <class 'int'>\n"
     ]
    }
   ],
   "source": [
    "#you can also check the type of the variables \n",
    "\n",
    "print(\"the type of x is: \",type(x))\n",
    "print(\"the type of y is: \",type(y))\n",
    "print(\"the type of a is: \",type(a))\n",
    "print(\"the type of b is: \",type(b))\n",
    "print(\"the type of c is: \",type(c))\n"
   ]
  },
  {
   "cell_type": "code",
   "execution_count": null,
   "metadata": {},
   "outputs": [],
   "source": []
  }
 ],
 "metadata": {
  "kernelspec": {
   "display_name": "Python 3",
   "language": "python",
   "name": "python3"
  },
  "language_info": {
   "codemirror_mode": {
    "name": "ipython",
    "version": 3
   },
   "file_extension": ".py",
   "mimetype": "text/x-python",
   "name": "python",
   "nbconvert_exporter": "python",
   "pygments_lexer": "ipython3",
   "version": "3.8.3"
  }
 },
 "nbformat": 4,
 "nbformat_minor": 4
}
